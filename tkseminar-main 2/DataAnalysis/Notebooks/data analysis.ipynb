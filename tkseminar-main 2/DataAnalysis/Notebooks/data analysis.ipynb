{
 "cells": [
  {
   "cell_type": "code",
   "execution_count": null,
   "metadata": {},
   "outputs": [],
   "source": [
    "import pandas as pd\n",
    "import matplotlib.pyplot as plt\n",
    "\n",
    "import seaborn as sns\n",
    "from datetime import datetime\n",
    "import datetime\n",
    "\n",
    "import ipywidgets\n",
    "\n",
    "%matplotlib widget\n",
    "import numpy as np\n",
    "from sklearn import preprocessing"
   ]
  },
  {
   "cell_type": "markdown",
   "metadata": {},
   "source": [
    "# data transformation"
   ]
  },
  {
   "cell_type": "code",
   "execution_count": null,
   "metadata": {},
   "outputs": [],
   "source": [
    "price_df= pd.read_csv(\"aluminium_price.csv\")\n",
    "\n",
    "price_df = price_df[['Month','Price']]\n",
    "price_df = price_df.set_index('Month')\n",
    "price_df.index = pd.to_datetime(price_df.index)\n",
    "#df.Price = df.Price.str.replace(',', '')\n",
    "price_df.Price = price_df.Price.astype(float)\n"
   ]
  },
  {
   "cell_type": "code",
   "execution_count": null,
   "metadata": {},
   "outputs": [],
   "source": [
    "\n",
    "production_df = pd.read_csv(\"aluminuim_production.csv\")\n",
    "production_df=  production_df.set_index('date')\n",
    "production_df.index = pd.to_datetime(production_df.index,format='%d/%m/%Y')\n",
    "production_df['sum'] = production_df[list(production_df.columns)].sum(axis=1)\n",
    "production_df = production_df.loc['1997-10-01':'2022-09-01']\n",
    "production_df =  production_df['sum']\n",
    "\n"
   ]
  },
  {
   "cell_type": "code",
   "execution_count": null,
   "metadata": {},
   "outputs": [],
   "source": [
    "energy_df = pd.read_csv(\"Global price of Energy index.csv\")\n",
    "\n",
    "energy_df =  energy_df.set_index('DATE')\n",
    "energy_df.index = pd.to_datetime(energy_df.index,format='%Y/%m/%d')\n",
    "energy_df = energy_df.loc['1997-10-01':'2022-09-01']\n",
    "energy_df= energy_df.rename(columns={'PNRGINDEXM': 'energy_price'})\n"
   ]
  },
  {
   "cell_type": "code",
   "execution_count": null,
   "metadata": {},
   "outputs": [],
   "source": [
    "gdp_df = pd.read_csv(\"world gdp monthly.csv\")\n",
    "#gdp_df = gdp_df.set_index('Date')\n",
    "gdp_df.Date = pd.to_datetime(gdp_df.Date,format='%Y-%m-%d')\n",
    "for i in range(0,gdp_df.shape[0]):\n",
    "    gdp_df.at[i,'Date'] = gdp_df['Date'].iloc[i].replace(day=1)\n",
    "\n",
    "gdp_df.sort_values('Date', ascending=True)\n",
    "gdp_df = gdp_df.set_index('Date')\n",
    "gdp_df = gdp_df.rename(columns={'Value': 'world_gdp'})\n",
    "\n",
    "gdp_df = gdp_df.loc['1997-10-01':]\n",
    "\n"
   ]
  },
  {
   "cell_type": "code",
   "execution_count": null,
   "metadata": {},
   "outputs": [],
   "source": [
    "us_dollar_index_df = pd.read_csv(\"US Dollar Index Historical Data.csv\")\n",
    "us_dollar_index_df = us_dollar_index_df[['Date','Price']]\n",
    "us_dollar_index_df = us_dollar_index_df.rename(columns={'Price':'us_dollar_index'})\n",
    "us_dollar_index_df=  us_dollar_index_df.set_index('Date')\n",
    "us_dollar_index_df.index = pd.to_datetime(us_dollar_index_df.index,format='%m/%d/%Y')\n",
    "us_dollar_index_df = us_dollar_index_df.loc['1997-10-01':]\n",
    "us_dollar_index_df"
   ]
  },
  {
   "cell_type": "code",
   "execution_count": null,
   "metadata": {},
   "outputs": [],
   "source": [
    "usd_canadian_df = pd.read_csv(\"usd_canadian_dollar.csv\")\n",
    "usd_canadian_df = usd_canadian_df[['Date','Close']]\n",
    "usd_canadian_df = usd_canadian_df.rename(columns={'Close':'usd_canadian_exchange_rate'})\n",
    "usd_canadian_df['Date'] = pd.to_datetime(usd_canadian_df.Date, format='%Y-%m-%d')\n",
    "usd_canadian_df['YearMonth'] = pd.to_datetime(usd_canadian_df['Date']).apply(lambda x: '{year}-{month}'.format(year=x.year, month=x.month))\n",
    "usd_canadian_df = usd_canadian_df.groupby('YearMonth')['usd_canadian_exchange_rate'].sum()\n",
    "usd_canadian_df.index = pd.to_datetime(usd_canadian_df.index,format='%Y/%m')\n",
    "usd_canadian_df"
   ]
  },
  {
   "cell_type": "code",
   "execution_count": null,
   "metadata": {},
   "outputs": [],
   "source": [
    "usd_india_df = pd.read_csv(\"usd_india_rupee.csv\")\n",
    "usd_india_df = usd_india_df[['Date','Close']]\n",
    "usd_india_df = usd_india_df.rename(columns={'Close':'usd_india_exchange_rate'})\n",
    "usd_india_df['Date'] = pd.to_datetime(usd_india_df.Date, format='%Y-%m-%d')\n",
    "usd_india_df['YearMonth'] = pd.to_datetime(usd_india_df['Date']).apply(lambda x: '{year}-{month}'.format(year=x.year, month=x.month))\n",
    "usd_india_df = usd_india_df.groupby('YearMonth')['usd_india_exchange_rate'].sum()\n",
    "usd_india_df.index = pd.to_datetime(usd_india_df.index,format='%Y/%m')\n",
    "usd_india_df"
   ]
  },
  {
   "cell_type": "code",
   "execution_count": null,
   "metadata": {},
   "outputs": [],
   "source": [
    "usd_russian_df = pd.read_csv(\"usd_russian_ruble.csv\")\n",
    "usd_russian_df = usd_russian_df[['Date','Close']]\n",
    "usd_russian_df = usd_russian_df.rename(columns={'Close':'usd_russian_exchange_rate'})\n",
    "usd_russian_df['Date'] = pd.to_datetime(usd_russian_df.Date, format='%Y-%m-%d')\n",
    "usd_russian_df['YearMonth'] = pd.to_datetime(usd_russian_df['Date']).apply(lambda x: '{year}-{month}'.format(year=x.year, month=x.month))\n",
    "usd_russian_df = usd_russian_df.groupby('YearMonth')['usd_russian_exchange_rate'].sum()\n",
    "usd_russian_df.index = pd.to_datetime(usd_russian_df.index,format='%Y/%m')\n",
    "usd_russian_df"
   ]
  },
  {
   "cell_type": "code",
   "execution_count": null,
   "metadata": {},
   "outputs": [],
   "source": [
    "usd_eur_df = pd.read_csv(\"usd-eur_exchange_rates.csv\")\n",
    "usd_eur_df = usd_eur_df[['Date','Close']]\n",
    "usd_eur_df = usd_eur_df.rename(columns={'Close':'usd_eur_exchange_rate'})\n",
    "usd_eur_df['Date'] = pd.to_datetime(usd_eur_df.Date, format='%Y-%m-%d')\n",
    "usd_eur_df['YearMonth'] = pd.to_datetime(usd_eur_df['Date']).apply(lambda x: '{year}-{month}'.format(year=x.year, month=x.month))\n",
    "usd_eur_df = usd_eur_df.groupby('YearMonth')['usd_eur_exchange_rate'].sum()\n",
    "usd_eur_df.index = pd.to_datetime(usd_eur_df.index,format='%Y/%m')\n",
    "usd_eur_df"
   ]
  },
  {
   "cell_type": "code",
   "execution_count": null,
   "metadata": {},
   "outputs": [],
   "source": [
    "df =  pd.concat([price_df,production_df,energy_df,gdp_df,us_dollar_index_df,usd_canadian_df,usd_india_df,usd_eur_df,usd_russian_df], axis=1)\n",
    "df = df.rename(columns={'Price': 'aluminum_price', 'sum': 'world_production'})\n",
    "df\n"
   ]
  },
  {
   "cell_type": "markdown",
   "metadata": {},
   "source": [
    "# data analysis 1"
   ]
  },
  {
   "cell_type": "code",
   "execution_count": null,
   "metadata": {},
   "outputs": [],
   "source": [
    "df = pd.read_csv(\"combination1.csv\", index_col = 'Unnamed: 0')\n",
    "df.tail(10)"
   ]
  },
  {
   "cell_type": "code",
   "execution_count": null,
   "metadata": {},
   "outputs": [],
   "source": [
    "df.columns"
   ]
  },
  {
   "cell_type": "code",
   "execution_count": null,
   "metadata": {},
   "outputs": [],
   "source": [
    "cols = ['aluminum_price', 'world_production', 'energy_price', 'world_gdp',\n",
    "       'us_dollar_index', 'usd_canadian_exchange_rate',\n",
    "       'usd_india_exchange_rate', 'usd_eur_exchange_rate',\n",
    "       'usd_russian_exchange_rate']\n"
   ]
  },
  {
   "cell_type": "code",
   "execution_count": null,
   "metadata": {},
   "outputs": [],
   "source": [
    "sns.pairplot(data=df,\n",
    "                  y_vars=['aluminum_price'],\n",
    "                  x_vars=['world_production', 'energy_price', 'world_gdp',\n",
    "       'us_dollar_index', 'usd_canadian_exchange_rate',\n",
    "       'usd_india_exchange_rate', 'usd_eur_exchange_rate',\n",
    "       'usd_russian_exchange_rate'])"
   ]
  },
  {
   "cell_type": "code",
   "execution_count": null,
   "metadata": {},
   "outputs": [],
   "source": [
    "df_corr = df[cols].corr()\n",
    "df_corr[['aluminum_price']].style.background_gradient(cmap='Blues')"
   ]
  },
  {
   "cell_type": "markdown",
   "metadata": {},
   "source": [
    "# data analysis 2"
   ]
  },
  {
   "cell_type": "code",
   "execution_count": null,
   "metadata": {},
   "outputs": [],
   "source": [
    "from sklearn.preprocessing import PolynomialFeatures\n",
    "from sklearn.linear_model import LinearRegression\n",
    "from sklearn.metrics import mean_squared_error"
   ]
  },
  {
   "cell_type": "markdown",
   "metadata": {},
   "source": [
    "### simple regression for 'aluminum_price','energy_price','us_dollar_index'"
   ]
  },
  {
   "cell_type": "code",
   "execution_count": null,
   "metadata": {},
   "outputs": [],
   "source": [
    "df = pd.read_csv(\"combination.csv\", index_col = 'Unnamed: 0')\n",
    "df = df[['aluminum_price','energy_price','us_dollar_index']].dropna()\n",
    "df"
   ]
  },
  {
   "cell_type": "code",
   "execution_count": null,
   "metadata": {},
   "outputs": [],
   "source": [
    "x_values = df[['energy_price','us_dollar_index']].values\n",
    "y_values = df['aluminum_price'].values\n",
    "\n",
    "regression_model = LinearRegression()\n",
    "regression_model.fit(x_values, y_values)\n"
   ]
  },
  {
   "cell_type": "code",
   "execution_count": null,
   "metadata": {},
   "outputs": [],
   "source": [
    "\n",
    "print('coef:', regression_model.coef_)\n",
    "print('intercept:', regression_model.intercept_)\n",
    "\n"
   ]
  },
  {
   "cell_type": "code",
   "execution_count": null,
   "metadata": {},
   "outputs": [],
   "source": [
    "\n",
    "\n",
    "def aluminuim_price(energy_price, us_dollar_index ):\n",
    "    aluminuim_price = 1696.4 + energy_price*4.6 - us_dollar_index*4.8\n",
    "    return aluminuim_price \n",
    "\n",
    "# need to set benckmark\n",
    "def aluminuim_price_percent(energy_price_percent, us_dollar_index_percent):\n",
    "    \n",
    "    \n",
    "    energy_price = 330\n",
    "    us_dollar_index = 112\n",
    "    aluminuim_price1 = 2228\n",
    "    energy_price = (1+energy_price_percent)*energy_price\n",
    "    us_dollar_index = (1+us_dollar_index_percent)*us_dollar_index\n",
    "\n",
    "    aluminuim_price2 = 1696.4 + energy_price*4.6 - us_dollar_index*4.8\n",
    "    aluminuim_price_percent = (aluminuim_price1-aluminuim_price2)/aluminuim_price1\n",
    "\n",
    "    return aluminuim_price_percent\n",
    "\n"
   ]
  },
  {
   "cell_type": "code",
   "execution_count": null,
   "metadata": {},
   "outputs": [],
   "source": [
    "aluminuim_price_percent(-0.1,-0.2)"
   ]
  },
  {
   "cell_type": "markdown",
   "metadata": {},
   "source": [
    "### simple regression for 'aluminum_price','energy_price','us_dollar_index', 'world_production','world_gdp'''"
   ]
  },
  {
   "cell_type": "code",
   "execution_count": null,
   "metadata": {},
   "outputs": [],
   "source": [
    "df = pd.read_csv(\"combination.csv\", index_col = 'Unnamed: 0')\n",
    "df = df[['aluminum_price','energy_price','us_dollar_index','world_production','world_gdp']].dropna()\n",
    "df"
   ]
  },
  {
   "cell_type": "code",
   "execution_count": null,
   "metadata": {},
   "outputs": [],
   "source": [
    "x_values = df[['energy_price','us_dollar_index','world_production','world_gdp']].values\n",
    "y_values = df['aluminum_price'].values\n",
    "\n",
    "regression_model = LinearRegression()\n",
    "regression_model.fit(x_values, y_values)"
   ]
  },
  {
   "cell_type": "code",
   "execution_count": null,
   "metadata": {},
   "outputs": [],
   "source": [
    "print('coef:', regression_model.coef_)\n",
    "print('intercept:', regression_model.intercept_)"
   ]
  },
  {
   "cell_type": "code",
   "execution_count": null,
   "metadata": {},
   "outputs": [],
   "source": [
    "\n",
    "\n",
    "def aluminuim_price(energy_price, us_dollar_index, world_production,world_gdp ):\n",
    "    aluminuim_price = 1523 + energy_price*4.1 - us_dollar_index*5.5 - world_production*0.13 + world_gdp*9\n",
    "    return aluminuim_price \n",
    "\n",
    "\n",
    "# need to set benckmark\n",
    "def aluminuim_price_percent(energy_price_percent, us_dollar_index_percent,world_production_percent,world_gdp_percent):\n",
    "    \n",
    "    \n",
    "    energy_price = 330\n",
    "    us_dollar_index = 112\n",
    "    world_production = 5521\n",
    "    world_gdp = 114\n",
    "    aluminuim_price1 = 2228\n",
    "    energy_price = (1+energy_price_percent)*energy_price\n",
    "    us_dollar_index = (1+us_dollar_index_percent)*us_dollar_index\n",
    "    world_production = (1+world_production_percent)*world_production\n",
    "    world_gdp  = (1+world_gdp_percent )*world_gdp \n",
    "\n",
    "\n",
    "\n",
    "    aluminuim_price2 = 1523 + energy_price*4.1 - us_dollar_index*5.5 - world_production*0.13 + world_gdp*9\n",
    "    aluminuim_price_percent = (aluminuim_price1-aluminuim_price2)/aluminuim_price1\n",
    "\n",
    "    return aluminuim_price_percent\n",
    "    \n"
   ]
  },
  {
   "cell_type": "code",
   "execution_count": null,
   "metadata": {},
   "outputs": [],
   "source": [
    "energy_price_percent = 0.1\n",
    "us_dollar_index_percent = -0.02\n",
    "world_production_percent = 0.01\n",
    "world_gdp_percent = 0.01\n",
    "\n",
    "print('Percentage change in aluminuim price:',\n",
    "             aluminuim_price_percent(energy_price_percent, us_dollar_index_percent,world_production_percent,world_gdp_percent))"
   ]
  },
  {
   "cell_type": "code",
   "execution_count": null,
   "metadata": {},
   "outputs": [],
   "source": []
  },
  {
   "cell_type": "code",
   "execution_count": null,
   "metadata": {},
   "outputs": [],
   "source": [
    "usd_canadian_df = usd_canadian_df[['Date','Close']]\n",
    "usd_canadian_df = usd_canadian_df.rename(columns={'Close':'usd_canadian_exchange_rate'})\n",
    "usd_canadian_df['Date'] = pd.to_datetime(usd_canadian_df.Date, format='%Y-%m-%d')"
   ]
  },
  {
   "cell_type": "markdown",
   "metadata": {},
   "source": [
    "# data analysis  3"
   ]
  },
  {
   "cell_type": "code",
   "execution_count": null,
   "metadata": {},
   "outputs": [],
   "source": [
    "df = pd.read_csv(\"combination1.csv\", index_col = 'Unnamed: 0')\n",
    "df.index = pd.to_datetime(df.index)\n",
    "df"
   ]
  },
  {
   "cell_type": "code",
   "execution_count": null,
   "metadata": {},
   "outputs": [],
   "source": [
    "nickel = pd.read_csv(\"Nickel.csv\")\n",
    "nickel = nickel[['Date','Open']]\n",
    "nickel = nickel.rename(columns={'Open':'nickel_price'})\n",
    "nickel['nickel_price'] = nickel['nickel_price'].str.replace(',','')\n",
    "nickel['nickel_price'] = nickel['nickel_price'].astype(float)\n",
    "nickel= nickel.set_index('Date')\n",
    "nickel.index = pd.to_datetime(nickel.index)\n",
    "nickel = nickel.loc[:'2022-11-01']\n",
    "nickel\n"
   ]
  },
  {
   "cell_type": "code",
   "execution_count": null,
   "metadata": {},
   "outputs": [],
   "source": [
    "copper = pd.read_csv(\"Copper.csv\")\n",
    "copper= copper[['Date','Open']]\n",
    "copper = copper.rename(columns={'Open':'copper_price'})\n",
    "copper['copper_price'] = copper['copper_price'].str.replace(',','')\n",
    "copper['copper_price'] = copper['copper_price'].astype(float)\n",
    "copper= copper.set_index('Date')\n",
    "copper.index = pd.to_datetime(copper.index)\n",
    "copper = copper.loc[:'2022-11-01']\n"
   ]
  },
  {
   "cell_type": "code",
   "execution_count": null,
   "metadata": {},
   "outputs": [],
   "source": [
    "\n",
    "\n",
    "\n",
    "zinc = pd.read_csv(\"Zinc.csv\")\n",
    "zinc = zinc[['Date','Open']]\n",
    "zinc = zinc.rename(columns={'Open':'zinc_price'})\n",
    "zinc['zinc_price'] = zinc['zinc_price'].str.replace(',','')\n",
    "zinc['zinc_price'] = zinc['zinc_price'].astype(float)\n",
    "zinc= zinc.set_index('Date')\n",
    "zinc.index = pd.to_datetime(zinc.index)\n",
    "zinc =zinc.loc[:'2022-11-01']\n"
   ]
  },
  {
   "cell_type": "code",
   "execution_count": null,
   "metadata": {},
   "outputs": [],
   "source": [
    "df =  pd.concat([df,zinc,copper,nickel], axis=1)\n"
   ]
  },
  {
   "cell_type": "code",
   "execution_count": null,
   "metadata": {},
   "outputs": [],
   "source": [
    "sns.pairplot(data=df,\n",
    "                  y_vars=['aluminum_price'],\n",
    "                  x_vars=['zinc_price', 'copper_price', 'nickel_price'])"
   ]
  },
  {
   "cell_type": "code",
   "execution_count": null,
   "metadata": {},
   "outputs": [],
   "source": [
    "df_corr = df.corr()\n",
    "df_corr[['aluminum_price']].style.background_gradient(cmap='Blues')"
   ]
  },
  {
   "cell_type": "code",
   "execution_count": null,
   "metadata": {},
   "outputs": [],
   "source": []
  },
  {
   "cell_type": "code",
   "execution_count": null,
   "metadata": {},
   "outputs": [],
   "source": []
  },
  {
   "cell_type": "code",
   "execution_count": null,
   "metadata": {},
   "outputs": [],
   "source": []
  },
  {
   "cell_type": "markdown",
   "metadata": {},
   "source": [
    "# please ignore the rest "
   ]
  },
  {
   "cell_type": "code",
   "execution_count": null,
   "metadata": {},
   "outputs": [],
   "source": []
  },
  {
   "cell_type": "code",
   "execution_count": null,
   "metadata": {},
   "outputs": [],
   "source": [
    "x_values_energy = df[['energy_price']].values\n",
    "x_values_us = df[['us_dollar_index']].values\n",
    "\n",
    "y_values = df['aluminum_price'].values"
   ]
  },
  {
   "cell_type": "code",
   "execution_count": null,
   "metadata": {},
   "outputs": [],
   "source": [
    "#define our polynomial model, with whatever degree we want\n",
    "degree=2\n",
    "\n",
    "# PolynomialFeatures will create a new matrix consisting of all polynomial combinations \n",
    "# of the features with a degree less than or equal to the degree we just gave the model (2)\n",
    "poly_model = PolynomialFeatures(degree=degree)\n",
    "\n",
    "# transform out polynomial features\n",
    "poly_x_values = poly_model.fit_transform(x_values_us)\n"
   ]
  },
  {
   "cell_type": "code",
   "execution_count": null,
   "metadata": {},
   "outputs": [],
   "source": [
    "# importing numpy as geek \n",
    "import numpy as geek\n",
    "x_values = geek.concatenate((x_values_energy, poly_x_values), axis = 1)\n",
    "x_values"
   ]
  },
  {
   "cell_type": "code",
   "execution_count": null,
   "metadata": {},
   "outputs": [],
   "source": [
    "regression_model = LinearRegression()\n",
    "regression_model.fit(x_values, y_values)"
   ]
  },
  {
   "cell_type": "code",
   "execution_count": null,
   "metadata": {},
   "outputs": [],
   "source": [
    "regression_model.intercept_"
   ]
  },
  {
   "cell_type": "code",
   "execution_count": null,
   "metadata": {},
   "outputs": [],
   "source": [
    "regression_model.coef_"
   ]
  },
  {
   "cell_type": "code",
   "execution_count": null,
   "metadata": {},
   "outputs": [],
   "source": [
    "%matplotlib inline\n",
    "number_degrees = [1,2,3,4,6,7,8,9,10]\n",
    "plt_mean_squared_error = []\n",
    "for degree in number_degrees:\n",
    "\n",
    "   poly_model = PolynomialFeatures(degree=degree)\n",
    "  \n",
    "   poly_x_values = poly_model.fit_transform(x_values)\n",
    "   poly_model.fit(poly_x_values, y_values)\n",
    "  \n",
    "   regression_model = LinearRegression()\n",
    "   regression_model.fit(poly_x_values, y_values)\n",
    "   y_pred = regression_model.predict(poly_x_values)\n",
    "  \n",
    "   plt_mean_squared_error.append(mean_squared_error(y_values, y_pred, squared=False))\n",
    "  \n",
    "plt.scatter(number_degrees,plt_mean_squared_error, color=\"green\")\n",
    "plt.plot(number_degrees,plt_mean_squared_error, color=\"red\") "
   ]
  },
  {
   "cell_type": "code",
   "execution_count": null,
   "metadata": {},
   "outputs": [],
   "source": [
    "poly_model = PolynomialFeatures(degree=5)\n",
    "\n",
    "poly_x_values = poly_model.fit_transform(x_values)\n",
    "poly_model.fit(poly_x_values, y_values)\n",
    "\n",
    "regression_model = LinearRegression()\n",
    "regression_model.fit(poly_x_values, y_values)\n",
    "y_pred = regression_model.predict(poly_x_values)"
   ]
  },
  {
   "cell_type": "code",
   "execution_count": null,
   "metadata": {},
   "outputs": [],
   "source": [
    "print(\"Intercept:\", regression_model.intercept_)\n",
    "print(\"Coefficients:\", regression_model.coef_)\n"
   ]
  },
  {
   "cell_type": "code",
   "execution_count": null,
   "metadata": {},
   "outputs": [],
   "source": [
    "%matplotlib inline\n",
    "import numpy as np\n",
    "import matplotlib.pyplot as plt\n"
   ]
  },
  {
   "cell_type": "code",
   "execution_count": null,
   "metadata": {},
   "outputs": [],
   "source": [
    "fig = plt.figure()\n",
    "ax = plt.axes(projection='3d')\n",
    "\n",
    "z = df['aluminum_price'].values\n",
    "x = df['us_dollar_index'].values\n",
    "y= df['energy_price'].values\n",
    "\n",
    "ax.set_xlabel('us_dollar_index')\n",
    "ax.set_ylabel('energy_price')\n",
    "ax.set_zlabel('aluminum_price')\n",
    "\n",
    "ax.scatter(x, y, z, c=z, cmap='viridis', linewidth=0.5)\n",
    "\n",
    "plt.show"
   ]
  },
  {
   "cell_type": "code",
   "execution_count": null,
   "metadata": {},
   "outputs": [],
   "source": []
  }
 ],
 "metadata": {
  "kernelspec": {
   "display_name": "Python 3 (ipykernel)",
   "language": "python",
   "name": "python3"
  },
  "language_info": {
   "codemirror_mode": {
    "name": "ipython",
    "version": 3
   },
   "file_extension": ".py",
   "mimetype": "text/x-python",
   "name": "python",
   "nbconvert_exporter": "python",
   "pygments_lexer": "ipython3",
   "version": "3.9.6"
  },
  "vscode": {
   "interpreter": {
    "hash": "4059aae91caef0f1a8ac3baead6ef3033cedf557d9fcc8c5ae8338dbddc9f22b"
   }
  }
 },
 "nbformat": 4,
 "nbformat_minor": 4
}
