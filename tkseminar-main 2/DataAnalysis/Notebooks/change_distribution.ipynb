{
 "cells": [
  {
   "cell_type": "code",
   "execution_count": null,
   "metadata": {},
   "outputs": [],
   "source": [
    "import pandas as pd"
   ]
  },
  {
   "cell_type": "code",
   "execution_count": null,
   "metadata": {},
   "outputs": [],
   "source": [
    "energy_index = pd.read_csv(\"../data/Global price of Energy index.csv\")"
   ]
  },
  {
   "cell_type": "code",
   "execution_count": null,
   "metadata": {},
   "outputs": [],
   "source": [
    "energy_index.DATE = pd.to_datetime(energy_index.DATE)"
   ]
  },
  {
   "cell_type": "code",
   "execution_count": null,
   "metadata": {},
   "outputs": [],
   "source": [
    "energy_index.info()"
   ]
  },
  {
   "cell_type": "code",
   "execution_count": null,
   "metadata": {},
   "outputs": [],
   "source": [
    "energy_index"
   ]
  },
  {
   "cell_type": "code",
   "execution_count": null,
   "metadata": {},
   "outputs": [],
   "source": [
    "energy_index[\"Monthly Change\"] = energy_index[\"PNRGINDEXM\"].pct_change()"
   ]
  },
  {
   "cell_type": "code",
   "execution_count": null,
   "metadata": {},
   "outputs": [],
   "source": [
    "energy_index[\"Monthly Change\"].plot(kind=\"kde\")"
   ]
  },
  {
   "cell_type": "code",
   "execution_count": null,
   "metadata": {},
   "outputs": [],
   "source": [
    "from sklearn.neighbors import KernelDensity\n",
    "import matplotlib.pyplot as plt\n",
    "\n",
    "data = energy_index[\"Monthly Change\"].dropna().to_numpy().reshape(-1,1)\n",
    "data.shape\n",
    "\n",
    "kde = KernelDensity(kernel=\"gaussian\", bandwidth=0.01).fit(data)"
   ]
  },
  {
   "cell_type": "code",
   "execution_count": null,
   "metadata": {},
   "outputs": [],
   "source": [
    "import numpy as np\n",
    "log_dens = kde.score_samples(data)\n",
    "plt.fill(data, np.exp(log_dens), c=\"cyan\")"
   ]
  },
  {
   "cell_type": "code",
   "execution_count": null,
   "metadata": {},
   "outputs": [],
   "source": [
    "#Creating a Function.\n",
    "def normal_dist(x , mean , sd):\n",
    "    prob_density = (np.pi*sd) * np.exp(-0.5*((x-mean)/sd)**2)\n",
    "    return prob_density\n",
    "\n",
    "#Calculate mean and Standard deviation.\n",
    "mean = np.mean(energy_index[\"Monthly Change\"].dropna())\n",
    "sd = np.std(energy_index[\"Monthly Change\"].dropna())"
   ]
  },
  {
   "cell_type": "code",
   "execution_count": null,
   "metadata": {},
   "outputs": [],
   "source": [
    "pdf = normal_dist(data, mean, sd)"
   ]
  },
  {
   "cell_type": "code",
   "execution_count": null,
   "metadata": {},
   "outputs": [],
   "source": [
    "data = energy_index[\"Monthly Change\"].dropna()"
   ]
  },
  {
   "cell_type": "code",
   "execution_count": null,
   "metadata": {},
   "outputs": [],
   "source": [
    "print(energy_index[\"Monthly Change\"])\n",
    "print(mean)\n",
    "print(sd)"
   ]
  },
  {
   "cell_type": "code",
   "execution_count": null,
   "metadata": {},
   "outputs": [],
   "source": [
    "plt.plot(energy_index[\"Monthly Change\"][1:].sort_values(), pdf, color=\"red\")\n",
    "plt.xlabel(\"Data Ponts\")\n",
    "plt.ylabel(\"Probability Density\")"
   ]
  },
  {
   "cell_type": "code",
   "execution_count": null,
   "metadata": {},
   "outputs": [],
   "source": [
    "import scipy.stats as stats\n",
    "import math\n",
    "\n",
    "x = np.linspace(mean- 3*sd, mean + 3*sd, 100)\n",
    "plt.plot(x, stats.norm.pdf(x, mean, sd))\n",
    "energy_index[\"Monthly Change\"].plot(kind=\"kde\")\n",
    "plt.show()\n",
    "stats.norm.pdf(x, mean, sd)"
   ]
  },
  {
   "cell_type": "code",
   "execution_count": null,
   "metadata": {},
   "outputs": [],
   "source": [
    "# Our integral approximation function\n",
    "def integral_approximation(f, a, b):\n",
    "    return (b-a)*np.mean(f)\n",
    "\n",
    "# Integrate f(x) = x^2\n",
    "def f1(x):\n",
    "    return x**2\n",
    "\n",
    "# Define bounds of integral\n",
    "a = mean - sd\n",
    "b = mean + sd\n",
    "\n",
    "x_range = np.arange(a,b+0.0001,.0001)\n",
    "fx = f1(x_range)\n",
    "fx = stats.norm.pdf(x_range, mean, sd)\n",
    "\n",
    "approx = integral_approximation(fx, a, b)\n",
    "approx"
   ]
  },
  {
   "cell_type": "code",
   "execution_count": null,
   "metadata": {},
   "outputs": [],
   "source": [
    "import seaborn as sns"
   ]
  },
  {
   "cell_type": "code",
   "execution_count": null,
   "metadata": {},
   "outputs": [],
   "source": [
    "data"
   ]
  },
  {
   "cell_type": "code",
   "execution_count": null,
   "metadata": {},
   "outputs": [],
   "source": [
    "sns.set_theme(style=\"whitegrid\")\n",
    "sns.displot(data, kde=True)"
   ]
  },
  {
   "cell_type": "code",
   "execution_count": null,
   "metadata": {},
   "outputs": [],
   "source": [
    "from sklearn.neighbors import KernelDensity\n",
    "import numpy as np\n",
    "X = np.array([[-1, -1], [-2, -1], [-3, -2], [1, 1], [2, 1], [3, 2]])\n",
    "kde = KernelDensity(kernel='gaussian', bandwidth=0.2).fit(X)\n",
    "kde.score_samples(X)"
   ]
  },
  {
   "cell_type": "code",
   "execution_count": null,
   "metadata": {},
   "outputs": [],
   "source": [
    "import numpy as np\n",
    "import matplotlib.pyplot as plt\n",
    "from scipy.stats import norm\n",
    "from sklearn.neighbors import KernelDensity\n"
   ]
  },
  {
   "cell_type": "code",
   "execution_count": null,
   "metadata": {},
   "outputs": [],
   "source": [
    "X_plot = np.linspace(-1, 1, 1000)[:, np.newaxis]\n",
    "\n",
    "X = energy_index[\"Monthly Change\"].dropna().to_numpy()[:,np.newaxis]\n",
    "\n",
    "# Gaussian KDE\n",
    "kde = KernelDensity(kernel=\"gaussian\", bandwidth=0.02).fit(X)\n",
    "log_dens = kde.score_samples(X_plot)\n",
    "\n",
    "sns.set_theme(style=\"darkgrid\")\n",
    "plt.fill_between(np.linspace(-1, 1, 1000), np.exp(log_dens), alpha=0.5)\n",
    "plt.xlim([-0.4,0.4])\n",
    "plt.xlabel(\"Monthly Change\")\n",
    "plt.ylabel(\"Density\")\n",
    "plt.title(\"Monthly Change of Global Energy Index\")\n",
    "plt.plot(X_plot[:,0], np.exp(log_dens))"
   ]
  },
  {
   "cell_type": "code",
   "execution_count": null,
   "metadata": {},
   "outputs": [],
   "source": [
    "print(f\"Expected value: {X.mean()}\")\n",
    "print(f\"Standard Deviation: {sd}\")"
   ]
  },
  {
   "cell_type": "code",
   "execution_count": null,
   "metadata": {},
   "outputs": [],
   "source": [
    "print(a, b)\n",
    "log_dens = kde.score_samples(X_plot)\n",
    "print(np.exp(log_dens)[500:])\n",
    "integral_approximation(np.exp(log_dens), -1, 1)"
   ]
  },
  {
   "cell_type": "code",
   "execution_count": null,
   "metadata": {},
   "outputs": [],
   "source": [
    "import scipy.integrate as integrate\n",
    "kde.score_samples(np.array([1])[:, np.newaxis])\n",
    "\n",
    "f = lambda x: np.exp(kde.score_samples(np.array([x])[:, np.newaxis]))\n",
    "\n",
    "print(integrate.quad(f, a, b))\n",
    "print(a)\n",
    "print(b)"
   ]
  }
 ],
 "metadata": {
  "kernelspec": {
   "display_name": "Python 3 (ipykernel)",
   "language": "python",
   "name": "python3"
  },
  "language_info": {
   "codemirror_mode": {
    "name": "ipython",
    "version": 3
   },
   "file_extension": ".py",
   "mimetype": "text/x-python",
   "name": "python",
   "nbconvert_exporter": "python",
   "pygments_lexer": "ipython3",
   "version": "3.9.6"
  },
  "vscode": {
   "interpreter": {
    "hash": "4059aae91caef0f1a8ac3baead6ef3033cedf557d9fcc8c5ae8338dbddc9f22b"
   }
  }
 },
 "nbformat": 4,
 "nbformat_minor": 2
}
