{
 "cells": [
  {
   "cell_type": "code",
   "execution_count": null,
   "metadata": {},
   "outputs": [],
   "source": [
    "import pandas as pd\n",
    "import matplotlib.pyplot as plt\n",
    "\n",
    "import seaborn as sns\n",
    "from datetime import datetime\n",
    "import datetime\n",
    "\n",
    "import ipywidgets\n",
    "\n",
    "%matplotlib widget\n",
    "import numpy as np\n",
    "from sklearn import preprocessing\n",
    "\n",
    "\n",
    "\n",
    "from sklearn.preprocessing import PolynomialFeatures\n",
    "from sklearn.linear_model import LinearRegression\n",
    "from sklearn.metrics import mean_squared_error"
   ]
  },
  {
   "cell_type": "code",
   "execution_count": null,
   "metadata": {},
   "outputs": [],
   "source": [
    "df = pd.read_csv(\"price_group_stock.csv.xls\")\n",
    "df.style"
   ]
  },
  {
   "cell_type": "code",
   "execution_count": null,
   "metadata": {},
   "outputs": [],
   "source": [
    "df = df.dropna(axis=1)"
   ]
  },
  {
   "cell_type": "code",
   "execution_count": null,
   "metadata": {},
   "outputs": [],
   "source": [
    "df_corr = df.corr()\n",
    "df_corr[['Price']].style.background_gradient(cmap='Blues')"
   ]
  },
  {
   "cell_type": "code",
   "execution_count": null,
   "metadata": {},
   "outputs": [],
   "source": [
    "sns.pairplot(data=df,\n",
    "                  y_vars=['Price'],\n",
    "                  x_vars=['5600', '5610', '5620', '5630', '5640', '5650', '5660', '5670', '5680',\n",
    "       '5800', '5810', '5820', '5830', '5850'])"
   ]
  },
  {
   "cell_type": "code",
   "execution_count": null,
   "metadata": {},
   "outputs": [],
   "source": []
  },
  {
   "cell_type": "code",
   "execution_count": null,
   "metadata": {},
   "outputs": [],
   "source": [
    "for i in ['5600', '5610', '5620', '5630', '5640', '5650', '5660', '5670', '5680',\n",
    "       '5800', '5810', '5820', '5830', '5850']:\n",
    "\n",
    "        x_values = df[['Price']].values\n",
    "        y_values = df[i].values\n",
    "\n",
    "        regression_model = LinearRegression()\n",
    "        regression_model.fit(x_values, y_values)\n",
    "\n",
    "        \n",
    "        print(i+' '+'coef:', regression_model.coef_)\n",
    "        print(i+' '+'intercept:', regression_model.intercept_)\n"
   ]
  }
 ],
 "metadata": {
  "kernelspec": {
   "display_name": "Python 3 (ipykernel)",
   "language": "python",
   "name": "python3"
  },
  "language_info": {
   "codemirror_mode": {
    "name": "ipython",
    "version": 3
   },
   "file_extension": ".py",
   "mimetype": "text/x-python",
   "name": "python",
   "nbconvert_exporter": "python",
   "pygments_lexer": "ipython3",
   "version": "3.9.6"
  },
  "vscode": {
   "interpreter": {
    "hash": "a371848896e3b70ceac1e8ecf37ad769db161bd8e02d0a2433ee3c19f99b9da3"
   }
  }
 },
 "nbformat": 4,
 "nbformat_minor": 4
}
