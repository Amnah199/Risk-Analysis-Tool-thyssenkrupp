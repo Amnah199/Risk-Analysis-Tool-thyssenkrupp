{
 "cells": [
  {
   "cell_type": "code",
   "execution_count": null,
   "metadata": {},
   "outputs": [],
   "source": [
    "import pandas as pd"
   ]
  },
  {
   "cell_type": "code",
   "execution_count": null,
   "metadata": {},
   "outputs": [],
   "source": [
    "# we need: \n",
    "\n",
    "# Model MG: date, zinc index, nickel index, aluminium price, energy price, oil price, gas price, USD index, CNY-USD index, RUB-USD index, CAD-USD index, EUR-USD index -> MG group prices\n",
    "\n",
    "# Model Alu: date x, zinc index x, nickel index x, energy price x, oil price x, gas price x, USD index x, global production (tons) x, chinese prod x, africa prod, asia (ex china) prod x, gulf prod x, west & central eu prod x,\n",
    "# Russia & Eastern EU prod x, North America Prod x, CNY-USD index x, RUB-USD index x, CAD-USD index x, EUR-USD index -> Alu price"
   ]
  },
  {
   "cell_type": "code",
   "execution_count": null,
   "metadata": {},
   "outputs": [],
   "source": [
    "alu_prices = pd.read_csv(\"../data/Aluminium Historical Data.csv\")\n",
    "\n",
    "gdp = pd.read_csv(\"../data/world gdp monthly.csv\") #?\n",
    "usd_index = pd.read_csv(\"../data/US Dollar Index Historical Data.csv\")\n",
    "alu_production = pd.read_csv(\"../data/aluminuim_production.csv\")\n",
    "energy_index = pd.read_csv(\"../data/Global price of Energy index.csv\")\n",
    "usd_cad = pd.read_csv(\"../data/usd_canadian_dollar.csv\")\n",
    "usd_rupee = pd.read_csv(\"../data/usd_indian_rupee.csv\") #?\n",
    "usd_ruble = pd.read_csv(\"../data/usd_russian_ruble.csv\")\n",
    "usd_yuan = pd.read_csv(\"../data/CNY=X.csv\")\n",
    "# EUR USD missing\n",
    "gas = pd.read_csv(\"./Data/NaturalGas.csv\")\n",
    "oil = pd.read_csv(\"./Data/IR14200.csv\")\n",
    "all_factors = pd.read_csv(\"../data/data with all factorst1.0.csv\")"
   ]
  },
  {
   "cell_type": "code",
   "execution_count": null,
   "metadata": {},
   "outputs": [],
   "source": [
    "nickel = all_factors[[\"Unnamed: 0\", \"nickel_price\"]]\n",
    "zinc = all_factors[[\"Unnamed: 0\", \"zinc_price\"]]\n",
    "copper_prices = all_factors[[\"Unnamed: 0\", \"copper_price\"]]\n"
   ]
  },
  {
   "cell_type": "code",
   "execution_count": null,
   "metadata": {},
   "outputs": [],
   "source": [
    "alu_production = alu_production[[\"Date\", \"Africa\", \"North America\", \"South America\", \"Asia (ex China)\", \"Western & Central Europe\", \"Russia & Eastern Europe\", \"Oceania\", \"Gulf Cooperation Council\", \"China (Estimated)\", \"Estimated Unreported to IAI\"]]\n",
    "alu_production[\"Total\"] = alu_production.sum(axis=\"columns\", numeric_only=True)\n",
    "alu_production[\"Date\"] = pd.to_datetime(alu_production[\"Date\"], format=\"%d/%m/%Y\")\n",
    "alu_production.rename(columns={\"Total\":\"Production_total\"}, inplace=True)\n",
    "energy_index[\"DATE\"] = pd.to_datetime(energy_index[\"DATE\"], format=\"%Y-%m-%d\")\n",
    "energy_index.rename(columns={\"DATE\":\"Date\", \"PNRGINDEXM\":\"Energy_index\"}, inplace=True)\n",
    "usd_rupee[\"Date\"] = pd.to_datetime(usd_rupee[\"Date\"], format=\"%Y-%m-%d\")\n",
    "usd_cad[\"Date\"] = pd.to_datetime(usd_cad[\"Date\"], format=\"%Y-%m-%d\")\n",
    "usd_ruble[\"Date\"] = pd.to_datetime(usd_ruble[\"Date\"], format=\"%Y-%m-%d\")\n",
    "usd_yuan[\"Date\"] = pd.to_datetime(usd_yuan[\"Date\"], format=\"%Y-%m-%d\")\n",
    "usd_rupee.rename(columns={\"Open\":\"Open_usd_rupee\"}, inplace=True)\n",
    "usd_ruble.rename(columns={\"Open\":\"Open_usd_ruble\"}, inplace=True)\n",
    "usd_yuan.rename(columns={\"Open\":\"Open_usd_yuan\"}, inplace=True)\n",
    "usd_cad.rename(columns={\"Open\":\"Open_usd_cad\"}, inplace=True)\n",
    "usd_index.rename(columns={\"Open\":\"Open_usd_index\"}, inplace=True)"
   ]
  },
  {
   "cell_type": "code",
   "execution_count": null,
   "metadata": {},
   "outputs": [],
   "source": [
    "steel_prices = pd.read_csv(\"./Data/SteelPrices.csv\")\n",
    "steel_prices = steel_prices[[\"Date\", \"Close\"]]\n",
    "steel_prices[\"Date\"] = pd.to_datetime(steel_prices[\"Date\"], format=\"%m/%d/%y\")\n",
    "steel_prices = steel_prices.reindex(index=steel_prices.index[::-1])\n",
    "steel_prices.rename(columns={\"Close\": \"Price\"}, inplace=True)\n",
    "steel_prices"
   ]
  },
  {
   "cell_type": "code",
   "execution_count": null,
   "metadata": {},
   "outputs": [],
   "source": [
    "\n",
    "zinc.rename(columns={\"Unnamed: 0\": \"Date\"}, inplace=True)\n",
    "nickel.rename(columns={\"Unnamed: 0\": \"Date\"}, inplace=True)\n",
    "zinc[\"Date\"] = pd.to_datetime(zinc[\"Date\"])\n",
    "nickel[\"Date\"] = pd.to_datetime(nickel[\"Date\"])\n",
    "\n",
    "copper_prices.rename(columns={\"Unnamed: 0\": \"Date\", \"copper_price\": \"Price\"}, inplace=True)\n",
    "copper_prices[\"Date\"] = pd.to_datetime(copper_prices[\"Date\"], format=\"%Y-%m-%d\")"
   ]
  },
  {
   "cell_type": "code",
   "execution_count": null,
   "metadata": {},
   "outputs": [],
   "source": [
    "oil[\"DATE\"] = pd.to_datetime(oil[\"DATE\"])\n",
    "oil.rename(columns={\"DATE\":\"Date\", \"IR14200\":\"Oil\"}, inplace=True)\n",
    "gas[\"DATE\"] = pd.to_datetime(gas[\"DATE\"])\n",
    "gas.rename(columns={\"DATE\":\"Date\", \"PNGASEUUSDM\":\"Natural Gas\"}, inplace=True)"
   ]
  },
  {
   "cell_type": "code",
   "execution_count": null,
   "metadata": {},
   "outputs": [],
   "source": [
    "gdp[\"Date\"] = pd.to_datetime(gdp[\"Date\"])"
   ]
  },
  {
   "cell_type": "code",
   "execution_count": null,
   "metadata": {},
   "outputs": [],
   "source": [
    "usd_index[\"Date\"] = pd.to_datetime(usd_index[\"Date\"], format=\"%m/%d/%Y\")"
   ]
  },
  {
   "cell_type": "code",
   "execution_count": null,
   "metadata": {},
   "outputs": [],
   "source": [
    "usd_index"
   ]
  },
  {
   "cell_type": "code",
   "execution_count": null,
   "metadata": {},
   "outputs": [],
   "source": [
    "alu_prices[\"Date\"] = pd.to_datetime(alu_prices[\"Date\"]) "
   ]
  },
  {
   "cell_type": "code",
   "execution_count": null,
   "metadata": {},
   "outputs": [],
   "source": [
    "alu_prices.Price = alu_prices.Price.apply(lambda x: x.replace(\",\", \"\"))\n",
    "alu_prices[\"Price\"] = alu_prices[\"Price\"].astype(\"float\")"
   ]
  },
  {
   "cell_type": "code",
   "execution_count": null,
   "metadata": {},
   "outputs": [],
   "source": [
    "usd_index"
   ]
  },
  {
   "cell_type": "code",
   "execution_count": null,
   "metadata": {},
   "outputs": [],
   "source": [
    "test_df = pd.merge(left=alu_prices[[\"Date\", \"Price\"]], right=gdp, on=\"Date\", how=\"left\")\n",
    "test_df = pd.merge(left=test_df, right=usd_index[[\"Date\", \"Open_usd_index\"]], on=\"Date\", how=\"left\")\n",
    "test_df = pd.merge(left=test_df, right=alu_production, on=\"Date\", how=\"left\")\n",
    "test_df = pd.merge(left=test_df, right=energy_index, on=\"Date\", how=\"left\")\n",
    "test_df = pd.merge(left=test_df, right=usd_ruble[[\"Date\", \"Open_usd_ruble\"]], on=\"Date\", how=\"left\")\n",
    "test_df = pd.merge(left=test_df, right=usd_rupee[[\"Date\", \"Open_usd_rupee\"]], on=\"Date\", how=\"left\")\n",
    "test_df = pd.merge(left=test_df, right=usd_cad[[\"Date\", \"Open_usd_cad\"]], on=\"Date\", how=\"left\")\n",
    "test_df = pd.merge(left=test_df, right=usd_yuan[[\"Date\", \"Open_usd_yuan\"]], on=\"Date\", how=\"left\")\n",
    "test_df = pd.merge(left=test_df, right=nickel, on=\"Date\", how=\"left\")\n",
    "test_df = pd.merge(left=test_df, right=zinc, on=\"Date\", how=\"left\")\n",
    "test_df = pd.merge(left=test_df, right=oil, on=\"Date\", how=\"left\")\n",
    "test_df = pd.merge(left=test_df, right=gas, on=\"Date\", how=\"left\")"
   ]
  },
  {
   "cell_type": "code",
   "execution_count": null,
   "metadata": {},
   "outputs": [],
   "source": [
    "test_df = test_df.sort_values(\"Date\")"
   ]
  },
  {
   "cell_type": "code",
   "execution_count": null,
   "metadata": {},
   "outputs": [],
   "source": [
    "test_df = test_df.fillna(method=\"ffill\")"
   ]
  },
  {
   "cell_type": "code",
   "execution_count": null,
   "metadata": {},
   "outputs": [],
   "source": [
    "test_df.dropna(inplace=True)"
   ]
  },
  {
   "cell_type": "code",
   "execution_count": null,
   "metadata": {},
   "outputs": [],
   "source": [
    "import pandas as pd\n",
    "from sklearn import linear_model"
   ]
  },
  {
   "cell_type": "code",
   "execution_count": null,
   "metadata": {},
   "outputs": [],
   "source": [
    "from mlxtend.preprocessing import minmax_scaling\n",
    "test = minmax_scaling(test_df[[\"Price\", \"Energy_index\", \"USD_index\", \"Production_total\"]], columns=[\"Price\", \"Energy_index\", \"USD_index\", \"Production_total\"])\n",
    "X = test[[\"Energy_index\", \"USD_index\", \"Production_total\"]]\n",
    "y = test[\"Price\"]\n"
   ]
  },
  {
   "cell_type": "code",
   "execution_count": null,
   "metadata": {},
   "outputs": [],
   "source": [
    "test_df"
   ]
  },
  {
   "cell_type": "code",
   "execution_count": null,
   "metadata": {},
   "outputs": [],
   "source": [
    "X = test_df[[\"Energy_index\", \"USD_index\", \"Production_total\"]]\n",
    "y = test_df[\"Price\"]"
   ]
  },
  {
   "cell_type": "code",
   "execution_count": null,
   "metadata": {},
   "outputs": [],
   "source": [
    "X = test_df[[\"GDP\", \"Open_usd_index\", \"Production_total\", \"Energy_index\", \"Open_usd_ruble\", \"Open_usd_rupee\", \"Open_usd_cad\", \"Open_usd_yuan\", \"zinc_price\", \"nickel_price\"]]\n",
    "y = test_df[\"Price\"]"
   ]
  },
  {
   "cell_type": "code",
   "execution_count": null,
   "metadata": {},
   "outputs": [],
   "source": [
    "test_df.rename(columns={\"Open_usd_index\": \"USD Index\", \"Production_total\": \"Global Aluminium Production\", \"Open_usd_rupee\":\"USD Rupee Ex.\", \"Open_usd_cad\": \"USD CAD Ex.\", \"Open_usd_ruble\": \"USD Ruble Ex.\", \"Open_usd_yuan\": \"USD Yuan Ex.\", \"zinc_price\":\"Zinc Price\", \"nickel_price\":\"Nickel Price\", \"Energy_index\":\"Energy Index\"}, inplace=True)"
   ]
  },
  {
   "cell_type": "code",
   "execution_count": null,
   "metadata": {},
   "outputs": [],
   "source": [
    "## This is a test to investigate if aluminium price trend features can improve the models performance\n",
    "\n",
    "test_df[\"Aluminium_Price_Trend\"] = test_df[\"Aluminium Price\"].shift(90)\n",
    "test_df[\"Aluminium_Price_Trend\"] = test_df[\"Aluminium_Price_Trend\"].rolling(5).mean()\n",
    "test_df"
   ]
  },
  {
   "cell_type": "code",
   "execution_count": null,
   "metadata": {},
   "outputs": [],
   "source": [
    "test_df.dropna(inplace=True)\n",
    "X_train = test_df[test_df.columns[2:-1]].iloc[:-90]\n",
    "y_train = test_df[\"Price\"].iloc[:-90]\n",
    "X_test = test_df[test_df.columns[2:-1]].iloc[-90:]\n",
    "y_test = test_df[\"Price\"].iloc[-90:]"
   ]
  },
  {
   "cell_type": "code",
   "execution_count": null,
   "metadata": {},
   "outputs": [],
   "source": [
    "X_train.columns"
   ]
  },
  {
   "cell_type": "code",
   "execution_count": null,
   "metadata": {},
   "outputs": [],
   "source": [
    "regr = linear_model.LinearRegression()\n",
    "regr.fit(X_train, y_train)\n",
    "\n"
   ]
  },
  {
   "cell_type": "code",
   "execution_count": null,
   "metadata": {},
   "outputs": [],
   "source": [
    "print('Intercept: \\n', regr.intercept_)\n",
    "print('Coefficients: \\n', regr.coef_)"
   ]
  },
  {
   "cell_type": "code",
   "execution_count": null,
   "metadata": {},
   "outputs": [],
   "source": [
    "import matplotlib.pyplot as plt\n",
    "import seaborn as sns"
   ]
  },
  {
   "cell_type": "code",
   "execution_count": null,
   "metadata": {},
   "outputs": [],
   "source": [
    "import numpy as np\n",
    "import matplotlib.ticker as ticker\n",
    "predictions = regr.predict(X_test.to_numpy())\n",
    "\n",
    "sns.set_theme(style=\"darkgrid\")\n",
    "\n",
    "fig = plt.figure()\n",
    "ax1 = fig.add_axes((1,1,1,1))\n",
    "ax1.plot(test_df[\"Date\"].iloc[-90:], predictions, label=\"Regression\")\n",
    "#ax2 = fig.add_axes((1,1,1,1), sharex=ax1, sharey=ax1)\n",
    "ax1.plot(test_df[\"Date\"].iloc[-90:], y_test, label = \"Historical Aluminium Price\")\n",
    "ax1.set_xlabel(\"Time\")\n",
    "ax1.set_ylabel(\"Aluminium Price in USD\")\n",
    "#plt.plot(test_df[\"Date\"].iloc[-90:], y.iloc[-90:], label = \"Historical Aluminium Price\")\n",
    "ax1.set_xticks(ax1.get_xticks()[::2])\n",
    "ax1.legend()\n",
    "ax1.set_title(\"Comparison of Historical Aluminium Prices and the Predictions of the Regression\")\n",
    "plt.ylim([0, 4000])\n",
    "plt.plot()\n",
    "\"\"\"\n",
    "\n",
    "plt.plot(test_df[\"Date\"].iloc[-90:], predictions, label=\"Regression\")\n",
    "plt.plot(test_df[\"Date\"].iloc[-90:], y.iloc[-90:], label = \"Historical Aluminium Price\")\n",
    "plt.ylabel(\"Aluminium Price in USD\")\n",
    "plt.xlabel(\"Time\")\n",
    "plt.legend(loc=\"upper left\")\n",
    "\n",
    "ticker_spacing = 1\n",
    "plt.set_xticks\n",
    "plt.xticks(np.arange(min(test_df[\"Date\"].iloc[-90:],), max(test_df[\"Date\"].iloc[-90:],)+1, 1.0))\"\"\"\n",
    "\n"
   ]
  },
  {
   "cell_type": "code",
   "execution_count": null,
   "metadata": {},
   "outputs": [],
   "source": [
    "from sklearn.metrics import mean_absolute_error, mean_squared_error"
   ]
  },
  {
   "cell_type": "code",
   "execution_count": null,
   "metadata": {},
   "outputs": [],
   "source": [
    "predictions = regr.predict(X_train.to_numpy())\n",
    "print(mean_absolute_error(y_train, predictions))\n",
    "print(mean_squared_error(y_train, predictions))"
   ]
  },
  {
   "cell_type": "code",
   "execution_count": null,
   "metadata": {},
   "outputs": [],
   "source": [
    "test_df[\"Price\"].iloc[-90:].mean()"
   ]
  },
  {
   "cell_type": "code",
   "execution_count": null,
   "metadata": {},
   "outputs": [],
   "source": [
    "mean_absolute_error(y_train, predictions) / y_train.mean()"
   ]
  },
  {
   "cell_type": "code",
   "execution_count": null,
   "metadata": {},
   "outputs": [],
   "source": [
    "test_df.columns"
   ]
  },
  {
   "cell_type": "code",
   "execution_count": null,
   "metadata": {},
   "outputs": [],
   "source": [
    "test_df.rename(columns={\"Price\": \"Aluminium Price\", \"USD_index\": \"USD Index\", \"Production_total\": \"Global Aluminium Production\", \"Open_usd_rupee\":\"USD Rupee Ex.\", \"Open_usd_cad\": \"USD CAD Ex.\", \"Open_usd_ruble\": \"USD Ruble Ex.\", \"Open_usd_yuan\": \"USD Yuan Ex.\", \"zinc_price\":\"Zinc Price\", \"nickel_price\":\"Nickel Price\", \"Energy_index\":\"Energy Index\"}, inplace=True)"
   ]
  },
  {
   "cell_type": "code",
   "execution_count": null,
   "metadata": {},
   "outputs": [],
   "source": [
    "sns.pairplot(data=test_df, y_vars=[\"Aluminium Price\"], x_vars=[\"GDP\", \"Energy Index\", \"USD Index\", \"Global Aluminium Production\", \"USD Rupee Ex.\"])"
   ]
  },
  {
   "cell_type": "code",
   "execution_count": null,
   "metadata": {},
   "outputs": [],
   "source": [
    "sns.pairplot(data=test_df, y_vars=[\"Aluminium Price\"], x_vars=[\"USD CAD Ex.\", \"USD Ruble Ex.\", \"USD Yuan Ex.\", \"Zinc Price\", \"Nickel Price\"])"
   ]
  },
  {
   "cell_type": "code",
   "execution_count": null,
   "metadata": {},
   "outputs": [],
   "source": [
    "test_df.iloc[:50]"
   ]
  },
  {
   "cell_type": "code",
   "execution_count": null,
   "metadata": {},
   "outputs": [],
   "source": [
    "test_df[\"Energy_index_trend\"] = test_df[\"Energy_index\"].rolling(180).mean() - test_df[\"Energy_index\"].iloc[90:]\n",
    "test_df[\"Production_total_trend\"] = test_df[\"Production_total\"].rolling(180).mean() - test_df[\"Production_total\"].iloc[90:]\n",
    "test_df[\"GDP_trend\"] = test_df[\"GDP\"].rolling(90).mean() - test_df[\"GDP\"].iloc[90:]\n",
    "test_df[\"USD_index_trend\"] = test_df[\"USD_index\"].rolling(180).mean() - test_df[\"USD_index\"].iloc[90:]\n"
   ]
  },
  {
   "cell_type": "code",
   "execution_count": null,
   "metadata": {},
   "outputs": [],
   "source": [
    "test_df[[\"Price\", \"Energy_index\", \"Energy_index_trend\"]].iloc[-50:]\n"
   ]
  },
  {
   "cell_type": "code",
   "execution_count": null,
   "metadata": {},
   "outputs": [],
   "source": [
    "plt.plot(test_df.Date, test_df.Production_total)\n"
   ]
  },
  {
   "cell_type": "code",
   "execution_count": null,
   "metadata": {},
   "outputs": [],
   "source": [
    "test_df[[\"Date\", \"Global Aluminium Production\"]]"
   ]
  },
  {
   "cell_type": "code",
   "execution_count": null,
   "metadata": {},
   "outputs": [],
   "source": [
    "import numpy as np\n",
    "import matplotlib.ticker as ticker\n",
    "\n",
    "sns.set_theme(style=\"darkgrid\")\n",
    "\n",
    "fig = plt.figure()\n",
    "ax1 = ax1 = fig.add_axes((1,1,1,1))\n",
    "ax1.plot(test_df[\"Date\"].iloc[-360:], test_df[\"Aluminium Price\"].iloc[-360:], label=\"Global Aluminium Production\")\n",
    "ax1.set_xlabel(\"Time\")\n",
    "ax1.set_ylabel(\"Aluminium Price in USD\")\n",
    "ax1.set_title(\"Aluminium Price\")\n",
    "#plt.axvline(test_df[\"Date\"].iloc[-90], color='red', alpha=1, label=\"Trend Window\")\n",
    "plt.plot(test_df[\"Date\"].iloc[-90], test_df[\"Aluminium Price\"].iloc[-90], \"ro\", label=\"Explained Data Point\")\n",
    "plt.legend()"
   ]
  },
  {
   "cell_type": "code",
   "execution_count": null,
   "metadata": {},
   "outputs": [],
   "source": [
    "test_df[\"Glo\"]"
   ]
  },
  {
   "cell_type": "code",
   "execution_count": null,
   "metadata": {},
   "outputs": [],
   "source": [
    "import numpy as np\n",
    "import matplotlib.ticker as ticker\n",
    "\n",
    "\n",
    "sns.set_theme(style=\"darkgrid\")\n",
    "\n",
    "fig = plt.figure()\n",
    "ax1 = fig.add_axes((1,1,1,1))\n",
    "ax1.plot(test_df[\"Date\"].iloc[-90:], predictions, label=\"Regression\")\n",
    "#ax2 = fig.add_axes((1,1,1,1), sharex=ax1, sharey=ax1)\n",
    "ax1.plot(test_df[\"Date\"].iloc[-90:], y_test, label = \"Historical Aluminium Price\")\n",
    "ax1.set_xlabel(\"Time\")\n",
    "ax1.set_ylabel(\"Aluminium Price in USD\")\n",
    "#plt.plot(test_df[\"Date\"].iloc[-90:], y.iloc[-90:], label = \"Historical Aluminium Price\")\n",
    "#ax1.set_xticks(ax1.get_xticks()[::2])\n",
    "ax1.legend()\n",
    "ax1.set_title(\"Comparison of Historical Aluminium Prices and the Predictions of the Regression\")\n",
    "plt.ylim([0, 4000])\n",
    "plt.plot()"
   ]
  },
  {
   "cell_type": "code",
   "execution_count": null,
   "metadata": {},
   "outputs": [],
   "source": [
    "test_df"
   ]
  }
 ],
 "metadata": {
  "kernelspec": {
   "display_name": "Python 3 (ipykernel)",
   "language": "python",
   "name": "python3"
  },
  "language_info": {
   "codemirror_mode": {
    "name": "ipython",
    "version": 3
   },
   "file_extension": ".py",
   "mimetype": "text/x-python",
   "name": "python",
   "nbconvert_exporter": "python",
   "pygments_lexer": "ipython3",
   "version": "3.9.6"
  },
  "vscode": {
   "interpreter": {
    "hash": "1a4f542eeffad6fd636f1d41765de207ca4cfb8ba893259aff65b46a9b497992"
   }
  }
 },
 "nbformat": 4,
 "nbformat_minor": 4
}
